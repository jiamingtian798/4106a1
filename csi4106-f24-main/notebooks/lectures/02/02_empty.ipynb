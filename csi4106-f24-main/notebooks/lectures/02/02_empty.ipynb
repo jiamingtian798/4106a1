{
  "cells": [
    {
      "cell_type": "markdown",
      "metadata": {},
      "source": [
        "# Lecture 02\n",
        "\n",
        "Jupyter Notebook - Empty\n",
        "\n",
        "Marcel Turcotte (School of Electrical Engineering and Computer Science,\n",
        "University of Ottawa)  \n",
        "2024-09-01"
      ],
      "id": "f74236b0-f4a4-4a5c-9ba2-b93ab0496ad5"
    }
  ],
  "nbformat": 4,
  "nbformat_minor": 5,
  "metadata": {
    "kernelspec": {
      "display_name": "Python 3",
      "language": "python",
      "name": "python3"
    }
  }
}