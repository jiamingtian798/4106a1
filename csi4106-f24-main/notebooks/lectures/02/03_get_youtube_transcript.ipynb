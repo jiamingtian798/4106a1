{
  "cells": [
    {
      "cell_type": "markdown",
      "metadata": {},
      "source": [
        "# Lecture 02\n",
        "\n",
        "Jupyter Notebook - YouTube Transcript API\n",
        "\n",
        "Marcel Turcotte (School of Electrical Engineering and Computer Science,\n",
        "University of Ottawa)  \n",
        "2024-09-01\n",
        "\n",
        "# Learning objective\n",
        "\n",
        "-   **Illustrate** the process of identifying and resolving missing\n",
        "    library issues in Google Colab.\n",
        "\n",
        "> **Important**\n",
        ">\n",
        "> This example is meant to be executed in [Google\n",
        "> Colab](https://colab.research.google.com).\n",
        "\n",
        "# YouTube Transcript API\n",
        "\n",
        "In this notebook, we aim to utilize the [YouTube Transcript\n",
        "API](https://github.com/jdepoix/youtube-transcript-api) to automatically\n",
        "download the transcript of the video titled [Can Machines\n",
        "Think?](https://www.youtube.com/watch?v=Ex9GbzX6tMo) by Noam Chomsky.\n",
        "\n",
        "First, let’s import `YouTubeTranscriptApi` and `TextFormatter` from\n",
        "`youtube_transcript_api`."
      ],
      "id": "0482d87b-ca88-4007-b25c-7a2277748106"
    },
    {
      "cell_type": "code",
      "execution_count": 1,
      "metadata": {},
      "outputs": [],
      "source": [
        "from youtube_transcript_api import YouTubeTranscriptApi\n",
        "from youtube_transcript_api.formatters import TextFormatter"
      ],
      "id": "9fe4feb6"
    },
    {
      "cell_type": "markdown",
      "metadata": {},
      "source": [
        "Executing the code cell above will result in an error, as the\n",
        "`youtube_transcript_api` library is not installed by default in Google\n",
        "Colab.\n",
        "\n",
        "    ---------------------------------------------------------------------------\n",
        "    ModuleNotFoundError                       Traceback (most recent call last)\n",
        "    <ipython-input-1-c8308591d925> in <cell line: 2>()\n",
        "          1 # ! pip install youtube-transcript-api\n",
        "    ----> 2 from youtube_transcript_api import YouTubeTranscriptApi\n",
        "          3 from youtube_transcript_api.formatters import TextFormatter\n",
        "\n",
        "    ModuleNotFoundError: No module named 'youtube_transcript_api'\n",
        "\n",
        "    ---------------------------------------------------------------------------\n",
        "    NOTE: If your import is failing due to a missing package, you can\n",
        "    manually install dependencies using either !pip or !apt.\n",
        "\n",
        "    To view examples of installing some common dependencies, click the\n",
        "    \"Open Examples\" button below.\n",
        "    ---------------------------------------------------------------------------\n",
        "\n",
        "This issue can be resolved by adding the following line of code before\n",
        "the first `import` statement. Try it!\n",
        "\n",
        "``` bash\n",
        "! pip install youtube-transcript-api\n",
        "```\n",
        "\n",
        "Once this has been solved, we can download and print the transcript."
      ],
      "id": "5a5a0c2c-548a-4a8d-bbce-46cdf39a90e3"
    },
    {
      "cell_type": "code",
      "execution_count": 2,
      "metadata": {},
      "outputs": [],
      "source": [
        "transcript = YouTubeTranscriptApi.get_transcript(\"Ex9GbzX6tMo\")\n",
        "formatter = TextFormatter()\n",
        "input_text = formatter.format_transcript(transcript)\n",
        "print(input_text)"
      ],
      "id": "6782908a"
    },
    {
      "cell_type": "markdown",
      "metadata": {},
      "source": [
        "# Exploration\n",
        "\n",
        "`!` allows to run [Unix/Linux shell commands in\n",
        "IPython](https://www.python4data.science/en/latest/workspace/ipython/shell.html).\n",
        "\n",
        "-   `! uname -a` displays information about the system.\n",
        "-   `! ls` displays the content of the current directory.\n",
        "-   `! ls /` displays the content of the root directory.\n",
        "-   `! pwd` returns working directory name."
      ],
      "id": "c7957087-baae-4b22-a07c-f68740ca0aa8"
    }
  ],
  "nbformat": 4,
  "nbformat_minor": 5,
  "metadata": {
    "kernelspec": {
      "name": "python3",
      "display_name": "Python 3 (ipykernel)",
      "language": "python"
    }
  }
}