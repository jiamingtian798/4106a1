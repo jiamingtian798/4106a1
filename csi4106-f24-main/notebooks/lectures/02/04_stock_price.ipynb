{
 "cells": [
  {
   "cell_type": "markdown",
   "id": "b8053b06-0188-4ea8-aab6-5416b7c2a4c6",
   "metadata": {},
   "source": [
    "# Lecture 02\n",
    "\n",
    "Jupyter Notebook - Empty\n",
    "\n",
    "Marcel Turcotte (School of Electrical Engineering and Computer Science,\n",
    "University of Ottawa)  \n",
    "2024-09-02\n",
    "\n",
    "# Market Capitalization of NVIDIA and Intel (2012 - 2024)\n",
    "\n",
    "The Python library `yfinance` is often used to download stock market\n",
    "data."
   ]
  },
  {
   "cell_type": "code",
   "execution_count": null,
   "id": "d2b14fff",
   "metadata": {},
   "outputs": [],
   "source": [
    "import yfinance as yf\n",
    "import matplotlib.pyplot as plt"
   ]
  },
  {
   "cell_type": "markdown",
   "id": "a20693a4-7653-439f-b5f6-f1e42b1e2394",
   "metadata": {},
   "source": [
    "Let’s define the stocks that are of interest for this analysis."
   ]
  },
  {
   "cell_type": "code",
   "execution_count": null,
   "id": "f0c34efc",
   "metadata": {},
   "outputs": [],
   "source": [
    "# Define the tickers for NVIDIA and Intel\n",
    "tickers = ['NVDA', 'INTC']"
   ]
  },
  {
   "cell_type": "markdown",
   "id": "77c2d0f7-deb0-46bf-9a5b-d5aa21151b9d",
   "metadata": {},
   "source": [
    "Now, downloading the data to our Colab instance or local computer."
   ]
  },
  {
   "cell_type": "code",
   "execution_count": null,
   "id": "a45025ee",
   "metadata": {},
   "outputs": [],
   "source": [
    "# Download the historical market data since 2012\n",
    "data = yf.download(tickers, start='2012-01-01', end='2024-01-01', group_by='ticker')"
   ]
  },
  {
   "cell_type": "markdown",
   "id": "a18b0968-b9d0-4d39-836b-ed5f12b59ed1",
   "metadata": {},
   "source": [
    "Focusing on the closing prices."
   ]
  },
  {
   "cell_type": "code",
   "execution_count": null,
   "id": "76e62e46",
   "metadata": {},
   "outputs": [],
   "source": [
    "# Extract the adjusted closing prices\n",
    "nvda_data = data['NVDA']['Adj Close']\n",
    "intc_data = data['INTC']['Adj Close']"
   ]
  },
  {
   "cell_type": "markdown",
   "id": "202d8c32-c246-4589-8801-8d9a6c59901a",
   "metadata": {},
   "source": [
    "Drawing."
   ]
  },
  {
   "cell_type": "code",
   "execution_count": null,
   "id": "199e7f5b",
   "metadata": {},
   "outputs": [],
   "source": [
    "# Plot the stock price data\n",
    "plt.figure(figsize=(12, 6))\n",
    "plt.plot(nvda_data.index, nvda_data, label='NVIDIA')\n",
    "plt.plot(intc_data.index, intc_data, label='Intel')\n",
    "plt.title('Stock Prices of NVIDIA and Intel (2012 - 2024)')\n",
    "plt.xlabel('Date')\n",
    "plt.ylabel('Stock Price (USD)')\n",
    "plt.legend()\n",
    "plt.grid(True)\n",
    "plt.show()"
   ]
  }
 ],
 "metadata": {
  "kernelspec": {
   "display_name": "Python 3 (ipykernel)",
   "language": "python",
   "name": "python3"
  },
  "language_info": {
   "codemirror_mode": {
    "name": "ipython",
    "version": 3
   },
   "file_extension": ".py",
   "mimetype": "text/x-python",
   "name": "python",
   "nbconvert_exporter": "python",
   "pygments_lexer": "ipython3",
   "version": "3.10.14"
  }
 },
 "nbformat": 4,
 "nbformat_minor": 5
}
